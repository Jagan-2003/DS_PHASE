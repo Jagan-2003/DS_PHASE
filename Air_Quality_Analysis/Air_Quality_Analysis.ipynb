{
 "cells": [
  {
   "cell_type": "code",
   "execution_count": null,
   "id": "156ea62d",
   "metadata": {},
   "outputs": [],
   "source": [
    "import pandas as pd\n",
    "import matplotlib.pyplot as plt\n",
    "import seaborn as sns\n",
    "from sklearn.model_selection import train_test_split\n",
    "from sklearn.linear_model import LinearRegression\n",
    "from sklearn.metrics import mean_squared_error, r2_score"
   ]
  },
  {
   "cell_type": "code",
   "execution_count": null,
   "id": "12deca82",
   "metadata": {},
   "outputs": [],
   "source": [
    "# Load air quality data\n",
    "data = pd.read_csv('cpcb_dly_aq_tamil_nadu-2014.csv')\n",
    "# Data Preprocessing\n",
    "data['Sampling Date'] = pd.to_datetime(data['Sampling Date'])\n",
    "tn_data = data[data['State'] == 'Tamil Nadu']\n",
    "# Display basic statistics\n",
    "print(data.describe())\n",
    "# Check for missing values\n",
    "print(data.isnull().sum())\n",
    "# Check unique values in categorical columns\n",
    "print(data['State'].unique())\n",
    "print(data['City/Town/Village/Area'].unique())"
   ]
  },
  {
   "cell_type": "code",
   "execution_count": null,
   "id": "12e6dce7",
   "metadata": {},
   "outputs": [],
   "source": [
    "# Plot trends in RSPM/PM10 pollution levels over time\n",
    "plt.figure(figsize=(22, 12))\n",
    "plt.plot(data.index, data['RSPM/PM10'], marker='o', linestyle='-', color='b', label='RSPM/PM10')\n",
    "plt.xlabel('Date')\n",
    "plt.ylabel('RSPM/PM10 Levels')\n",
    "plt.title('Trends in RSPM/PM10 Pollution Levels Over Time')\n",
    "plt.grid(True)\n",
    "plt.legend()\n",
    "plt.show()"
   ]
  },
  {
   "cell_type": "code",
   "execution_count": null,
   "id": "78e1131f",
   "metadata": {},
   "outputs": [],
   "source": [
    "# Group data by date and calculate mean values\n",
    "daily_mean = data.groupby('Sampling Date').mean()"
   ]
  },
  {
   "cell_type": "code",
   "execution_count": null,
   "id": "ddcb3f54",
   "metadata": {},
   "outputs": [],
   "source": [
    "# Plot daily average air quality\n",
    "plt.figure(figsize=(12, 6))\n",
    "plt.plot(daily_mean.index, daily_mean['SO2'], label='Mean SO2')\n",
    "plt.plot(daily_mean.index, daily_mean['NO2'], label='Mean NO2')\n",
    "plt.plot(daily_mean.index, daily_mean['RSPM/PM10'], label='Mean RSPM/PM10')\n",
    "plt.xlabel('Sampling Date')\n",
    "plt.ylabel('Mean Concentration')\n",
    "plt.title('Daily Average Air Quality in Tamil Nadu')\n",
    "plt.legend()\n",
    "plt.grid(True)\n",
    "plt.show()"
   ]
  },
  {
   "cell_type": "code",
   "execution_count": null,
   "id": "84ea594d",
   "metadata": {},
   "outputs": [],
   "source": [
    "# Calculate daily average SO2 and NO2 concentrations\n",
    "daily_mean = data.groupby('Sampling Date')[['SO2', 'NO2']].mean()"
   ]
  },
  {
   "cell_type": "code",
   "execution_count": null,
   "id": "275200e5",
   "metadata": {},
   "outputs": [],
   "source": [
    "# Plot daily average SO2 and NO2 concentrations\n",
    "plt.figure(figsize=(12, 6))\n",
    "plt.plot(daily_mean.index, daily_mean['SO2'], label='Mean SO2 Concentration')\n",
    "plt.plot(daily_mean.index, daily_mean['NO2'], label='Mean NO2 Concentration')\n",
    "plt.xlabel('Sampling Date')\n",
    "plt.ylabel('Mean Concentration (µg/m³)')\n",
    "plt.title('Daily Average SO2 and NO2 Concentrations in Tamil Nadu')\n",
    "plt.legend()\n",
    "plt.grid(True)\n",
    "plt.show()"
   ]
  },
  {
   "cell_type": "code",
   "execution_count": null,
   "id": "c29dc5ff",
   "metadata": {},
   "outputs": [],
   "source": [
    "# Display statistics and box plots for SO2 and NO2 concentrations\n",
    "so2_stats = data['SO2'].describe()\n",
    "no2_stats = data['NO2'].describe()"
   ]
  },
  {
   "cell_type": "code",
   "execution_count": null,
   "id": "73f9db35",
   "metadata": {},
   "outputs": [],
   "source": [
    "plt.figure(figsize=(12, 6))\n",
    "plt.subplot(1, 2, 1)\n",
    "data.boxplot(column='SO2')\n",
    "plt.title('SO2 Concentration Box Plot')\n",
    "plt.subplot(1, 2, 2)\n",
    "data.boxplot(column='NO2')\n",
    "plt.title('NO2 Concentration Box Plot')\n",
    "plt.tight_layout()\n",
    "plt.show()"
   ]
  },
  {
   "cell_type": "code",
   "execution_count": null,
   "id": "bf233718",
   "metadata": {},
   "outputs": [],
   "source": [
    "# Visualize trends in air pollution over time using seaborn\n",
    "plt.figure(figsize=(12, 6))\n",
    "for pollutant in ['SO2', 'NO2', 'RSPM/PM10']:\n",
    "    sns.lineplot(data=tn_data, x='Sampling Date', y=pollutant, label=pollutant)\n",
    "plt.xlabel('Year')\n",
    "plt.ylabel('Concentration (µg/m³)')\n",
    "plt.title('Air Pollution Trends in Tamil Nadu')\n",
    "plt.legend()\n",
    "plt.grid(True)\n",
    "plt.show()"
   ]
  },
  {
   "cell_type": "code",
   "execution_count": null,
   "id": "8af447e0",
   "metadata": {},
   "outputs": [],
   "source": [
    "# Train a linear regression model to predict RSPM/PM10 levels\n",
    "selected_columns = ['SO2', 'NO2', 'RSPM/PM10']\n",
    "tn_data = tn_data[selected_columns].dropna()"
   ]
  },
  {
   "cell_type": "code",
   "execution_count": null,
   "id": "2c6db9de",
   "metadata": {},
   "outputs": [],
   "source": [
    "X = tn_data[['SO2', 'NO2']]\n",
    "y = tn_data['RSPM/PM10']"
   ]
  },
  {
   "cell_type": "code",
   "execution_count": null,
   "id": "053966df",
   "metadata": {},
   "outputs": [],
   "source": [
    "X_train, X_test, y_train, y_test = train_test_split(X, y, test_size=0.2, random_state=42)"
   ]
  },
  {
   "cell_type": "code",
   "execution_count": null,
   "id": "7278e528",
   "metadata": {},
   "outputs": [],
   "source": [
    "model = LinearRegression()\n",
    "model.fit(X_train, y_train)\n",
    "y_pred = model.predict(X_test)"
   ]
  },
  {
   "cell_type": "code",
   "execution_count": null,
   "id": "44948589",
   "metadata": {},
   "outputs": [],
   "source": [
    "mse = mean_squared_error(y_test, y_pred)\n",
    "r2 = r2_score(y_test, y_pred)"
   ]
  },
  {
   "cell_type": "code",
   "execution_count": null,
   "id": "301a38e8",
   "metadata": {},
   "outputs": [],
   "source": [
    "print(f'Mean Squared Error: {mse}')\n",
    "print(f'R-squared (Coefficient of Determination): {r2}')"
   ]
  },
  {
   "cell_type": "code",
   "execution_count": null,
   "id": "08af2ea8",
   "metadata": {},
   "outputs": [],
   "source": [
    "# User Input for Prediction\n",
    "user_so2 = float(input(\"Enter SO2 concentration (µg/m³): \"))\n",
    "user_no2 = float(input(\"Enter NO2 concentration (µg/m³): \"))"
   ]
  },
  {
   "cell_type": "code",
   "execution_count": null,
   "id": "d666751d",
   "metadata": {},
   "outputs": [],
   "source": [
    "# Predict RSPM/PM10 level based on user input\n",
    "user_input = pd.DataFrame({'SO2': [user_so2], 'NO2': [user_no2]})\n",
    "predicted_rspm_pm10 = model.predict(user_input[['SO2', 'NO2']])"
   ]
  },
  {
   "cell_type": "code",
   "execution_count": null,
   "id": "e4ab4e60",
   "metadata": {},
   "outputs": [],
   "source": [
    "print(f'Predicted RSPM/PM10 Level: {predicted_rspm_pm10[0]:.2f}')"
   ]
  },
  {
   "cell_type": "code",
   "execution_count": null,
   "id": "657713e1",
   "metadata": {},
   "outputs": [],
   "source": [
    "# Visualization of Actual vs. Predicted\n",
    "plt.figure(figsize=(8, 8))\n",
    "plt.scatter(X_test['NO2'], y_test, color='blue', label='Actual', alpha=0.5)\n",
    "plt.scatter(user_input['NO2'], predicted_rspm_pm10, color='red', marker='X', label='User Input')\n",
    "plt.xlabel('NO2 Concentration')\n",
    "plt.ylabel('RSPM/PM10 Levels')\n",
    "plt.title('Actual vs. Predicted RSPM/PM10 Levels')\n",
    "plt.legend()\n",
    "plt.grid(True)\n",
    "plt.show()"
   ]
  },
  {
   "cell_type": "code",
   "execution_count": null,
   "id": "1be98e89",
   "metadata": {},
   "outputs": [],
   "source": [
    "# Visualize pollutant levels by location and time using a heatmap\n",
    "df = pd.read_csv('cpcb_dly_aq_tamil_nadu-2014.csv')\n",
    "data_heatmap = df.pivot_table(index='Location of Monitoring Station', values='RSPM/PM10')"
   ]
  },
  {
   "cell_type": "code",
   "execution_count": null,
   "id": "cd357236",
   "metadata": {},
   "outputs": [],
   "source": [
    "plt.figure(figsize=(12, 8))\n",
    "sns.heatmap(data_heatmap, cmap='YlGnBu', annot=True, fmt=\".1f\")\n",
    "plt.xlabel('Time')\n",
    "plt.ylabel('Location')\n",
    "plt.title('Air Quality Heatmap')\n",
    "plt.show()\n",
    "# Calculate average pollution levels for each area\n",
    "grouped = data.groupby('City/Town/Village/Area')[['SO2', 'NO2', 'RSPM/PM10']].mean()\n",
    "print(grouped)"
   ]
  }
 ],
 "metadata": {
  "jupytext": {
   "cell_metadata_filter": "-all",
   "main_language": "python",
   "notebook_metadata_filter": "-all"
  }
 },
 "nbformat": 4,
 "nbformat_minor": 5
}
